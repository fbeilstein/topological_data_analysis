{
  "nbformat": 4,
  "nbformat_minor": 0,
  "metadata": {
    "colab": {
      "provenance": [],
      "include_colab_link": true
    },
    "kernelspec": {
      "name": "python3",
      "display_name": "Python 3"
    },
    "language_info": {
      "name": "python"
    }
  },
  "cells": [
    {
      "cell_type": "markdown",
      "metadata": {
        "id": "view-in-github",
        "colab_type": "text"
      },
      "source": [
        "<a href=\"https://colab.research.google.com/github/fbeilstein/topological_data_analysis/blob/master/lecture_2_more_on_topology.ipynb\" target=\"_parent\"><img src=\"https://colab.research.google.com/assets/colab-badge.svg\" alt=\"Open In Colab\"/></a>"
      ]
    },
    {
      "cell_type": "markdown",
      "source": [
        "But you can't get any continuity. Elements of the set just slip like sand through the fingers.\n",
        "\n",
        "![img](https://media.istockphoto.com/id/594942902/photo/sand-running-through-fingers.jpg?s=612x612&w=0&k=20&c=tIJriPncFbYTrXoZxKOwrg86qTf8YUUXTw6rq1MSdUs=)"
      ],
      "metadata": {
        "id": "wu1VCc7kjJD8"
      }
    },
    {
      "cell_type": "markdown",
      "source": [
        "## Topology"
      ],
      "metadata": {
        "id": "VBmiFuvXLISI"
      }
    },
    {
      "cell_type": "markdown",
      "source": [
        "**Definition**\n",
        "\n",
        "Let $X$ be a non-empty set. A set $\\tau$ of subsets of $X$ is said to be **a topology** on $X$ if\n",
        "- (i) $X$ and the empty set, $\\emptyset$, belong to $\\tau$,\n",
        "- (ii) the union of any (finite or infinite) number of sets in $\\tau$ belongs to $\\tau$, and\n",
        "- (iii) the intersection of any two sets in $\\tau$ belongs to $\\tau$.\n",
        "\n",
        "The pair $(X,\\tau)$ is called a **topological space**.\n",
        "\n",
        "Then the members of $\\tau$ are said to be **open sets**.\n",
        "\n",
        "The complement $X \\setminus O$ of an open set $O$ is called **a closed set**.\n",
        "\n",
        "**Example**\n",
        "\n",
        "- (Topology) Let $X = \\{a, b, c, d, e, f\\}$ and $\\tau = \\{X, Ø, \\{a\\}, \\{c, d\\}, \\{a, c, d\\}, \\{b, c, d, e, f\\}\\}$.\n",
        "- (Not Topology) $X = \\mathbb{N}$, $\\tau = \\{X, \\emptyset, \\text{all finite subsets of }\\mathbb{N}\\}$\n",
        "\n",
        "**Definition**\n",
        "\n",
        "Let $X$ be any non-empty set and let $\\tau$ be the collection of **all** subsets of $X$. Then $\\tau$ is called **the discrete topology** on the set $X$. The topological space $(X,\\tau)$ is called **a discrete space**.\n",
        "\n",
        "**Remark 1**\n",
        "\n",
        "Let $(X,\\tau)$ be a topological space. A sequence $\\{x(n) \\mid n \\in \\mathbb{N} \\}$ in $X$ is said to converge to a limit point $a \\in X $ \\\\\n",
        "if: $ \\forall \\; U \\in \\tau : a \\in U \\Rightarrow \\exists \\; N \\in \\mathbb{N} : \\forall \\; n > N : x(n) \\in U$.\n",
        "\n",
        "Then, if $X$ has the discrete topology, every sequence which converges to some point $a$ must be eventually constant according to the definition of convergence; that is, the sequence must be of the form $(x(1),x(2),\\; \\dots \\;,x(k),a,a,a, \\dots \\;)$ for some fixed $k \\in \\mathbb{N}$.\n",
        "\n",
        "\n",
        "**Definition**\n",
        "\n",
        "Let $X$ be any non-empty set and $\\tau = \\{X, \\emptyset\\}$. Then $\\tau$ is called **the indiscrete topology** and $(X,\\tau)$ is said to be **an indiscrete space**.\n",
        "\n",
        "**Remark 2**\n",
        "\n",
        "Sometimes **the indiscrete topology** is called **the chaotic topology** since in this particular case of topology **every** sequence $\\{x(n) \\mid n \\in \\mathbb{N} \\}$ in $X$ converges to **every** point $a \\in X$.\n",
        "\n",
        "**Remark 3**\n",
        "\n",
        "These two examples of topologies represent the extreme cases of topologies on every possible point space $X$, which could be the space of geometric points, e. g. $\\mathbb{R}^m$ or the space of functions, or even some more complicated example. Every possible topology $\\tau$ on $X$ contains **the indiscrete (chaotic) topology** as a subset, which is understandable since this is the least detailed topology, most \"blind\" topology, which does not give any precise information on convergence at all.\n",
        "At the same time, every possible topology $\\tau$ on $X$ is contained inside **the discrete topology** because this is the most, redundandly detailed one, which restricts convergent sequences only to those with **constant** tails.\n"
      ],
      "metadata": {
        "id": "JCuc_8QnJ_1i"
      }
    },
    {
      "cell_type": "markdown",
      "source": [
        "##Induced definitions"
      ],
      "metadata": {
        "id": "G5Yfb--Kzh3H"
      }
    },
    {
      "cell_type": "markdown",
      "source": [
        "**Definition**\n",
        "\n",
        "Let $Y$ be a non-empty subset of a topological space $(X,\\tau_X)$. The collection $\\tau_Y = \\{O \\cap Y : O \\in \\tau_X\\}$ of subsets of $Y$ is a topology on $Y$ called **the subspace topology** (or **the relative topology** or **the induced topology**).\n",
        "\n",
        "The topological space $(Y,\\tau_Y)$ is said to be **a subspace** of $(X,\\tau_X)$\n",
        "\n",
        "**Lemma**\n",
        "\n",
        "(\"Transitivity\") Let $Y$ be a subspace of $X$. If $U$ is open in $Y$ and $Y$ is open in $X$, then $U$ is open in $X$.\n",
        "\n",
        "**Definition**\n",
        "\n",
        "**A base** (in some sources **basis**) for the topological space $(X,\\tau)$ is a collection of subsets $\\mathcal {B}$ of $X$ (basis elements) such that\n",
        "* (B1) The elements of $\\mathcal {B}$ cover $X$, i.e., every point $x\\in X$ belongs to some element of $\\mathcal {B}$.\n",
        "* (B2) For every $B_{1},B_{2}\\in \\mathcal {B}$ and every point $x\\in B_{1}\\cap B_{2}$, there exists some $B_{3}\\in \\mathcal {B}$ such that $x\\in B_{3}\\subseteq B_{1}\\cap B_{2}$.\n",
        "\n",
        "**Definition**\n",
        "\n",
        "In the topology $\\tau$ **generated by $\\mathcal{B}$**, a subset $U \\subseteq X$ is open in $X$ if for each $x \\in U$, there exists a basis element $B \\in \\mathcal{B}$ such that $x \\in B \\subseteq U$.\n",
        "\n",
        "\n",
        "**Examples**\n",
        "\n",
        "* The set of all circular regions in the plane is a basis for $\\mathbb{R}^2$.\n",
        "* The set of all rectangular regions with edges parallel to the coordinate axes is a basis for $\\mathbb{R}^2$.\n",
        "* The collection of one point subsets of any set $X$ is a basis for the discrete topology on $X$.\n",
        "\n",
        "**Lemma**\n",
        "\n",
        "Topology generated by $\\mathcal{B}$ is all unions of basis elements.\n",
        "\n",
        "**Lemma**\n",
        "\n",
        "Let $X$ be a topological space. Suppose that $\\mathcal{C}$ is a collection of open sets of $X$ such that for each open set $U \\subseteq X$ and for each $x \\in U$, there exists an element $C \\in \\mathcal{C}$ such that $x \\in C \\subset U$. Then $\\mathcal{C}$ is a basis for the topology of $X$. (This gives us a means for obtaining a basis, given a topology.)\n",
        "\n",
        "**Example**\n",
        "\n",
        "Three topologies on $\\mathbb{R}$:\n",
        "\n",
        "* The **standard topology** on $\\mathbb{R}$ is generated by\n",
        "$$\n",
        "\\mathcal{B} = \\{ \\text{the set of all open intervals} \\; (a,b)  \\{x : a < x < b\\} \\}.\n",
        "$$\n",
        "* The **lower limit topology** on $\\mathbb{R}$ ($\\mathbb{R}_\\ell$ is generated by\n",
        "$$\n",
        "\\mathcal{B}' = \\{ \\text{all half open intervals} \\; [a,b) = \\{x : a \\leq x < b\\}.\n",
        "$$\n",
        "* The **K-topology** on $\\mathbb{R}$ ($\\mathbb{R}_K$) is generated by\n",
        "$$\n",
        "\\mathcal{B}'' = \\{ \\text{all intervals} \\; (a,b) \\; \\text{and} \\; (a,b) - K \\; \\text{where} \\; K = \\left\\{ \\frac{1}{n} : n \\in \\mathbb{Z} \\right\\} \\}.\n",
        "$$\n",
        "\n",
        "**Definition**\n",
        "\n",
        "A **subbasis** $\\mathcal{S}$ for a topology on $X$ is a collection of subsets of $X$ whose union is equal to $X$.\n",
        "\n",
        "**Definition**\n",
        "\n",
        "The **topology generated by $\\mathcal{S}$** is the collection $\\tau$ of all unions of finite intersections of elements of $\\mathcal{S}$.\n",
        "\n",
        "\n",
        "**Definition**\n",
        "\n",
        "If $X, Y$ are topological spaces, the **product topology** on $X \\times Y$ is the topology with basis\n",
        "$$\n",
        "\\mathcal{B} = \\{ U \\times V : U \\; \\text{is open in} \\; X; V \\; \\text{is open in} \\; Y \\}.\n",
        "$$\n",
        "\n",
        "**Lemma**\n",
        "\n",
        "If $\\mathcal{B}$ is a basis for a topology of $X$ and $\\mathcal{C}$ is a basis for a topology of $Y$, then\n",
        "$$\n",
        "\\mathcal{D} = \\{ B \\times C : B \\in \\mathcal{B}, C \\in \\mathcal{C} \\}\n",
        "$$\n",
        "is a basis for a topology on $X \\times Y$.\n",
        "\n",
        "**Definition**\n",
        "\n",
        "So let us consider the cartesian products $X_1\\times\\cdots\\times X_n$ and $X_1\\times\\cdots$, where each $X_i$ is a topological space. There are two possible ways to proceed.\n",
        "\n",
        "* **Box topology** take as basis all sets of the form $U_1\\times\\cdots\\times U_n$ in the first case, and of the form $U_1\\times\\cdots$ in the second case, where $U_i$ is an open set of $X_i$ for each $i$.\n",
        "* **Product topology** take as a subbasis all sets of the form $\\pi_i^{-1}(U_i)$\n",
        "\n",
        "**Example**\n",
        "\n",
        "Consider the function $f : \\mathbb R \\to \\mathbb R^\\mathbb N$ given by $f(x) = (x,x,x,\\dots)$. Consider the subset of $\\mathbb R^\\mathbb N$ given by $\\prod_{n\\ge 1}(-2^{-n},\\,2^{-n})$. In the box topology this is open. Its pre-image under $f$ is $\\{ x \\in \\mathbb R : \\forall n: x \\in (-2^{-n},\\,2^{-n}) \\}$, but it's easy to see that's just $\\{ 0 \\}$, which is not open. So $f$ is not continuous!"
      ],
      "metadata": {
        "id": "9xzaU8Ba0Faq"
      }
    },
    {
      "cell_type": "markdown",
      "source": [
        "## Functions"
      ],
      "metadata": {
        "id": "xf_c4qTIPBk_"
      }
    },
    {
      "cell_type": "markdown",
      "source": [
        "**Definition**\n",
        "\n",
        "* A function $f:X\\to Y$ is **continuous** iff for each $ x\\in X$, $f(x) \\in V \\in \\tau_Y$, there exists a $U \\in \\tau_X$ such that $x \\in U$ and $f(U) \\subset V$.\n",
        "\n",
        "\n",
        "![img](https://upload.wikimedia.org/wikipedia/commons/thumb/a/a7/Continuity_topology.svg/509px-Continuity_topology.svg.png)\n",
        "\n",
        "* A function $f:X\\to Y$ is **continuous** iff for each $U \\in \\tau_Y$, $f^{-1}(U) \\in \\tau_X$.\n",
        "* Both definitions are equivalent\n",
        "\n",
        "**Definition**\n",
        "\n",
        "Let $(X,\\tau_X)$ and $(Y,\\tau_Y)$ be topological spaces.\n",
        "Then they are said to be **homeomorphic** if there exists a function $f: X \\to Y$ which has the following properties:\n",
        "* (i) $f$ is one-to-one (that is $f(x_1) = f(x_2) \\rightarrow x_1 = x_2$),\n",
        "* (ii) $f$ is onto (that is, for any $y \\in Y$ there exists an $x \\in X$ such that $f(x) = y$),\n",
        "* (iii) for each $U \\in \\tau_Y$, $f^{−1}(U) \\in \\tau_X$, and\n",
        "* (iv) for each $V \\in \\tau_X$, $f(V) \\in \\tau_Y$.\n",
        "\n",
        "Further, the map $f$ is said to be a **homeomorphism** between $(X,\\tau_X)$ and $(Y,\\tau_Y)$. We write $(X,τ) \\cong (Y,τ 1)$.\n"
      ],
      "metadata": {
        "id": "AlzUvJuoBANv"
      }
    },
    {
      "cell_type": "markdown",
      "source": [
        "The **separability axioms** describe different levels of \"distinguishability\" of points using open sets.\n",
        "\n",
        "* $T_0$ (Kolmogorov)\n",
        "For any two distinct points $x, y \\in X$, there exists an open set that contains one of them but not the other. **Example:** The cofinite (complements are finite) topology on an infinite set is $T_0$ but not $T_1$.\n",
        "\n",
        "* $T_1$ (Frechet) For any two distinct points $x, y \\in X$, there exists an open set containing $x$ but not $y$, and another open set containing $y$ but not $x$. **Equivalent condition:** All singletons $\\{x\\}$ are closed. **Example:** The standard topology on $\\mathbb{R}$ is $T_1$.\n",
        "\n",
        "* $T_2$ (Hausdorff) For any two distinct points $x, y \\in X$, there exist **disjoint** open sets $U$ and $V$ such that $x \\in U$ and $y \\in V$.\n",
        "Stronger than $T_1$: Ensures limits of sequences are unique. **Example:** Euclidean spaces $\\mathbb{R}^n$ are Hausdorff.\n",
        "\n",
        "* $T_3$ (Regular Hausdorff) Hausdorff + Regularity:\n",
        "If $C$ is a closed set and $x \\notin C$, then there exist disjoint open sets separating $x$ and $C$. **Example:** The lower limit topology on $\\mathbb{R}$ (generated by intervals of the form $[a;b)$) is $T_3$ but not $T_4$.\n",
        "\n",
        "* $T_4$ (Normal Hausdorff) Hausdorff + Normality: If $A, B$ are two **disjoint** closed sets, then there exist **disjoint open** sets $U$ and $V$ such that $A \\subset U$, $B \\subset V$. **Example:** Compact metric spaces are always $T_4$.\n",
        "\n",
        "* $T_5$ (Completely Normal Hausdorff) Hausdorff + Completely Normal: If $A,B$ are disjoint separated sets (each is disjoint from the other's closure), then there exist disjoint open sets separating them. **Example:** The space of real-valued functions with the uniform topology.\n",
        "\n",
        "* $T_6$ (Perfectly Normal Hausdorff) Hausdorff + Perfectly Normal:\n",
        "The space is normal, and every closed set is a $G\\delta$-set (a countable intersection of open sets). **Example:** The real line $\\mathbb{R}$ with Euclidean topology."
      ],
      "metadata": {
        "id": "376_fv5FTDEI"
      }
    },
    {
      "cell_type": "markdown",
      "source": [
        "**Compact Spaces**\n",
        "\n",
        "Let $A$ be a subset of a topological space $(X,\\tau)$. Then $A$ is said to be **compact** if for every set $I$ and every family of open sets, $O_i$, $i \\in I$, such that $A \\subset \\bigcup\\limits_{i \\in I} O_i$ there exists a finite subfamily $O_{i_1}, O_{i_2} \\dots O_{i_n}$ such that  $A \\subset \\bigcup\\limits_{k = 1}^n O_{i_n}$\n",
        "\n",
        "* Every closed subspace of a compact space is compact\n",
        "* Every compact subspace of a Hausdorff space is compact\n",
        "* A finite union of compact sets is compact\n",
        "* A continuous image of a compact space is compact\n",
        "* Product of compact spaces is compact (see Tychonoff theorem for infinite case)\n",
        "\n",
        "**Properties**\n",
        "\n",
        "* Bijection between compact and Hausdorff is homeomorhism\n",
        "* Extreme value theorem (!)"
      ],
      "metadata": {
        "id": "C30LVosSN6b-"
      }
    }
  ]
}