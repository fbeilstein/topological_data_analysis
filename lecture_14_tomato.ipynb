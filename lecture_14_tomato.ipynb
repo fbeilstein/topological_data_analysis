{
  "nbformat": 4,
  "nbformat_minor": 0,
  "metadata": {
    "colab": {
      "provenance": [],
      "authorship_tag": "ABX9TyNQz1HOJIhQhZ0AiGVQWKaw",
      "include_colab_link": true
    },
    "kernelspec": {
      "name": "python3",
      "display_name": "Python 3"
    },
    "language_info": {
      "name": "python"
    }
  },
  "cells": [
    {
      "cell_type": "markdown",
      "metadata": {
        "id": "view-in-github",
        "colab_type": "text"
      },
      "source": [
        "<a href=\"https://colab.research.google.com/github/fbeilstein/topological_data_analysis/blob/master/lecture_14_tomato.ipynb\" target=\"_parent\"><img src=\"https://colab.research.google.com/assets/colab-badge.svg\" alt=\"Open In Colab\"/></a>"
      ]
    },
    {
      "cell_type": "markdown",
      "source": [
        "- [ARTICLE](https://geometrica.saclay.inria.fr/data/Steve.Oudot/clustering/jacm_oudot.pdf)\n",
        "- [SIMPLER ARTICLE](https://geometrica.saclay.inria.fr/team/Steve.Oudot/papers/cgos-pbc-09/cgos-pbcrm-11.pdf)\n",
        "- [Fuzzy Clustering](https://arxiv.org/pdf/1406.7130)\n",
        "- [Implementation](https://github.com/xetaxe/ToMATo-Notebook/blob/master/Guide%20ToMATo.ipynb)\n",
        "- [GUDHI docs](https://gudhi.inria.fr/python/latest/clustering.html)"
      ],
      "metadata": {
        "id": "iK-ddgFSuPAD"
      }
    },
    {
      "cell_type": "code",
      "source": [
        "!pip install gudhi"
      ],
      "metadata": {
        "id": "KPAZ2ONOuuRq"
      },
      "execution_count": null,
      "outputs": []
    },
    {
      "cell_type": "code",
      "execution_count": null,
      "metadata": {
        "id": "7IuR_wQtt6xn"
      },
      "outputs": [],
      "source": [
        "import numpy as np\n",
        "from gudhi.clustering.tomato import Tomato\n",
        "from sklearn.datasets import make_moons\n",
        "import matplotlib.pyplot as plt\n",
        "\n",
        "# Generate toy data\n",
        "X, _ = make_moons(n_samples=500, noise=0.05)\n",
        "\n",
        "# Apply ToMATo clustering\n",
        "tomato = Tomato()#(k=50, persistence_threshold=0.5)\n",
        "tomato.fit(X)\n",
        "tomato.n_clusters_ = 2\n",
        "\n",
        "# Plot result\n",
        "plt.scatter(X[:, 0], X[:, 1], c=tomato.labels_, cmap='tab10', s=10)\n",
        "plt.title(\"ToMATo Clustering\")\n",
        "plt.show()\n"
      ]
    }
  ]
}