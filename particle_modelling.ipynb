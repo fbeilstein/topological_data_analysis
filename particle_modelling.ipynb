{
  "cells": [
    {
      "cell_type": "markdown",
      "metadata": {
        "id": "view-in-github",
        "colab_type": "text"
      },
      "source": [
        "<a href=\"https://colab.research.google.com/github/fbeilstein/topological_data_analysis/blob/master/particle_modelling.ipynb\" target=\"_parent\"><img src=\"https://colab.research.google.com/assets/colab-badge.svg\" alt=\"Open In Colab\"/></a>"
      ]
    },
    {
      "cell_type": "code",
      "source": [
        "# Install Dependencies\n",
        "!apt-get update\n",
        "!apt-get install -y cmake g++ make libboost-dev libboost-system-dev libboost-filesystem-dev libboost-thread-dev\n",
        "!apt-get install -y libeigen3-dev\n",
        "\n",
        "# Install OpenMPI\n",
        "!apt-get install -y libopenmpi-dev openmpi-bin\n",
        "\n",
        "# Install other dependencies\n",
        "!pip install cython numpy mpi4py pybind11\n",
        "\n",
        "# Install cereal\n",
        "!git clone https://github.com/USCiLab/cereal.git\n",
        "!mkdir -p /usr/local/include/cereal\n",
        "!cp -r cereal/include/cereal /usr/local/include/\n",
        "\n",
        "# Clone the HOOMD-blue repository\n",
        "!git clone --recursive https://github.com/glotzerlab/hoomd-blue.git\n",
        "%cd hoomd-blue\n",
        "\n",
        "# Build HOOMD-blue from Source\n",
        "!mkdir build\n",
        "%cd build\n",
        "\n",
        "# Get pybind11 include path\n",
        "import pybind11\n",
        "pybind11_include = pybind11.get_include()\n",
        "pybind11_cmake = pybind11.get_cmake_dir()\n",
        "print(\"CMAKE: \", pybind11_cmake)\n",
        "\n",
        "# Run cmake with pybind11 include directory\n",
        "!cmake ../ -DENABLE_MPI=ON -DENABLE_GPU=ON -DPYTHON_EXECUTABLE=/usr/bin/python3 -Dpybind11_DIR={pybind11_cmake}\n",
        "!make -j4\n",
        "!make install"
      ],
      "metadata": {
        "id": "weQ-4i3g2OYJ"
      },
      "execution_count": null,
      "outputs": []
    },
    {
      "cell_type": "code",
      "source": [
        "import os\n",
        "os.environ['LD_LIBRARY_PATH'] += ':/usr/local/lib'\n",
        "os.environ['HOOMD_PATH'] = '/content/hoomd-blue/build'"
      ],
      "metadata": {
        "id": "F1jPa-9Jys3V"
      },
      "execution_count": 9,
      "outputs": []
    },
    {
      "cell_type": "code",
      "source": [
        "import hoomd\n",
        "import hoomd.md\n",
        "\n",
        "# Initialize HOOMD-blue context\n",
        "hoomd.context.initialize(\"--mode=gpu\")\n",
        "\n",
        "# Create a simulation box with particles\n",
        "N = 1000\n",
        "L = 10.0\n",
        "snapshot = hoomd.data.make_snapshot(N=N, box=hoomd.data.boxdim(L=L), particle_types=['A'])\n",
        "\n",
        "import numpy as np\n",
        "snapshot.particles.position[:] = np.random.uniform(-L/2, L/2, size=(N, 3))\n",
        "\n",
        "system = hoomd.init.read_snapshot(snapshot)\n",
        "\n",
        "# Custom potential function\n",
        "def custom_force(r, rmin, rmax, epsilon, sigma):\n",
        "    # Your custom force calculation here\n",
        "    force = -4 * epsilon * ((12 * (sigma ** 12) / (r ** 13)) - (6 * (sigma ** 6) / (r ** 7)))\n",
        "    return force\n",
        "\n",
        "# Custom energy function\n",
        "def custom_energy(r, rmin, rmax, epsilon, sigma):\n",
        "    # Your custom energy calculation here\n",
        "    energy = 4 * epsilon * ((sigma / r) ** 12 - (sigma / r) ** 6)\n",
        "    return energy\n",
        "\n",
        "# Define the custom potential\n",
        "nl = hoomd.md.nlist.cell()\n",
        "user_potential = hoomd.md.pair.user(r_cut=2.5, nlist=nl)\n",
        "user_potential.set_params(func=custom_force, rmin=0.1, rmax=2.5, coeff=dict(epsilon=1.0, sigma=1.0))\n",
        "\n",
        "# Integrate the equations of motion\n",
        "hoomd.md.integrate.mode_standard(dt=0.005)\n",
        "integrator = hoomd.md.integrate.nve(group=hoomd.group.all())\n",
        "\n",
        "# Run the simulation\n",
        "hoomd.run(1e4)\n"
      ],
      "metadata": {
        "id": "ggUKQsGSyrGr",
        "outputId": "937f7594-9628-4a2e-f5d4-2008ca2bc051",
        "colab": {
          "base_uri": "https://localhost:8080/",
          "height": 218
        }
      },
      "execution_count": 16,
      "outputs": [
        {
          "output_type": "error",
          "ename": "AttributeError",
          "evalue": "module 'hoomd.data' has no attribute 'make_snapshot'",
          "traceback": [
            "\u001b[0;31m---------------------------------------------------------------------------\u001b[0m",
            "\u001b[0;31mAttributeError\u001b[0m                            Traceback (most recent call last)",
            "\u001b[0;32m<ipython-input-16-85429f32b37f>\u001b[0m in \u001b[0;36m<cell line: 10>\u001b[0;34m()\u001b[0m\n\u001b[1;32m      8\u001b[0m \u001b[0mN\u001b[0m \u001b[0;34m=\u001b[0m \u001b[0;36m1000\u001b[0m\u001b[0;34m\u001b[0m\u001b[0;34m\u001b[0m\u001b[0m\n\u001b[1;32m      9\u001b[0m \u001b[0mL\u001b[0m \u001b[0;34m=\u001b[0m \u001b[0;36m10.0\u001b[0m\u001b[0;34m\u001b[0m\u001b[0;34m\u001b[0m\u001b[0m\n\u001b[0;32m---> 10\u001b[0;31m \u001b[0msnapshot\u001b[0m \u001b[0;34m=\u001b[0m \u001b[0mhoomd\u001b[0m\u001b[0;34m.\u001b[0m\u001b[0mdata\u001b[0m\u001b[0;34m.\u001b[0m\u001b[0mmake_snapshot\u001b[0m\u001b[0;34m(\u001b[0m\u001b[0mN\u001b[0m\u001b[0;34m=\u001b[0m\u001b[0mN\u001b[0m\u001b[0;34m,\u001b[0m \u001b[0mbox\u001b[0m\u001b[0;34m=\u001b[0m\u001b[0mhoomd\u001b[0m\u001b[0;34m.\u001b[0m\u001b[0mdata\u001b[0m\u001b[0;34m.\u001b[0m\u001b[0mboxdim\u001b[0m\u001b[0;34m(\u001b[0m\u001b[0mL\u001b[0m\u001b[0;34m=\u001b[0m\u001b[0mL\u001b[0m\u001b[0;34m)\u001b[0m\u001b[0;34m,\u001b[0m \u001b[0mparticle_types\u001b[0m\u001b[0;34m=\u001b[0m\u001b[0;34m[\u001b[0m\u001b[0;34m'A'\u001b[0m\u001b[0;34m]\u001b[0m\u001b[0;34m)\u001b[0m\u001b[0;34m\u001b[0m\u001b[0;34m\u001b[0m\u001b[0m\n\u001b[0m\u001b[1;32m     11\u001b[0m \u001b[0;34m\u001b[0m\u001b[0m\n\u001b[1;32m     12\u001b[0m \u001b[0;32mimport\u001b[0m \u001b[0mnumpy\u001b[0m \u001b[0;32mas\u001b[0m \u001b[0mnp\u001b[0m\u001b[0;34m\u001b[0m\u001b[0;34m\u001b[0m\u001b[0m\n",
            "\u001b[0;31mAttributeError\u001b[0m: module 'hoomd.data' has no attribute 'make_snapshot'"
          ]
        }
      ]
    },
    {
      "cell_type": "code",
      "source": [
        "!zip -r hoomd_compiled.zip /usr/local/lib/python3.10/dist-packages/hoomd"
      ],
      "metadata": {
        "id": "e6mBNQmgwcMU"
      },
      "execution_count": null,
      "outputs": []
    },
    {
      "cell_type": "code",
      "source": [
        "!unzip hoomd_compiled.zip -d /"
      ],
      "metadata": {
        "id": "Y5QjFovJwyMF"
      },
      "execution_count": null,
      "outputs": []
    },
    {
      "cell_type": "markdown",
      "source": [
        "https://hoomd-blue.readthedocs.io/en/v4.8.2/"
      ],
      "metadata": {
        "id": "Z-xWCxZq1wDs"
      }
    }
  ],
  "metadata": {
    "colab": {
      "name": "Welcome To Colab",
      "provenance": [],
      "include_colab_link": true
    },
    "kernelspec": {
      "display_name": "Python 3",
      "name": "python3"
    }
  },
  "nbformat": 4,
  "nbformat_minor": 0
}