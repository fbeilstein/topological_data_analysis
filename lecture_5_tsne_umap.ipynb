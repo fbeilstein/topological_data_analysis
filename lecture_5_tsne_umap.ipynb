{
  "nbformat": 4,
  "nbformat_minor": 0,
  "metadata": {
    "colab": {
      "provenance": [],
      "authorship_tag": "ABX9TyPLBQCE6LaVhWWPhB6/PP7K",
      "include_colab_link": true
    },
    "kernelspec": {
      "name": "python3",
      "display_name": "Python 3"
    },
    "language_info": {
      "name": "python"
    }
  },
  "cells": [
    {
      "cell_type": "markdown",
      "metadata": {
        "id": "view-in-github",
        "colab_type": "text"
      },
      "source": [
        "<a href=\"https://colab.research.google.com/github/fbeilstein/topological_data_analysis/blob/master/lecture_5_tsne_umap.ipynb\" target=\"_parent\"><img src=\"https://colab.research.google.com/assets/colab-badge.svg\" alt=\"Open In Colab\"/></a>"
      ]
    },
    {
      "cell_type": "markdown",
      "source": [
        "[t-SNE demo (external)](https://distill.pub/2016/misread-tsne/)"
      ],
      "metadata": {
        "id": "wXTjDiubNew3"
      }
    },
    {
      "cell_type": "markdown",
      "source": [
        "###GPU-based code (switch runtime to T4)"
      ],
      "metadata": {
        "id": "OThppIy9DST3"
      }
    },
    {
      "cell_type": "code",
      "source": [
        "!git clone https://github.com/rapidsai/rapidsai-csp-utils.git\n",
        "!python rapidsai-csp-utils/colab/pip-install.py\n",
        "\n",
        "try:\n",
        "  from cuml.manifold import TSNE\n",
        "  from cuml.manifold import UMAP\n",
        "  from google.colab import output\n",
        "  output.clear()\n",
        "except:\n",
        "  print('ERROR')\n",
        "finally:\n",
        "  print('COMPLETE')"
      ],
      "metadata": {
        "id": "WzfnDWtPCBbx"
      },
      "execution_count": null,
      "outputs": []
    },
    {
      "cell_type": "code",
      "execution_count": null,
      "metadata": {
        "id": "SutWCL_CBOck"
      },
      "outputs": [],
      "source": [
        "from cuml.manifold import TSNE\n",
        "from cuml.manifold import UMAP\n",
        "\n",
        "reducer = TSNE(n_components=n_components, n_neighbors=n_neighbors, perplexity=perplexity, method='fft')\n",
        "reducer = UMAP(n_components=n_components, n_neighbors=n_neighbors)"
      ]
    },
    {
      "cell_type": "markdown",
      "source": [
        "###CPU-based code"
      ],
      "metadata": {
        "id": "pdNksreDDZU_"
      }
    },
    {
      "cell_type": "code",
      "source": [
        "!pip install umap-learn\n",
        "\n",
        "try:\n",
        "  from umap import UMAP\n",
        "  from google.colab import output\n",
        "  output.clear()\n",
        "except:\n",
        "  print('ERROR')\n",
        "finally:\n",
        "  print('COMPLETE')"
      ],
      "metadata": {
        "id": "qRhtNJZdDRMm"
      },
      "execution_count": null,
      "outputs": []
    },
    {
      "cell_type": "code",
      "source": [
        "from sklearn.manifold import TSNE\n",
        "from umap import UMAP\n",
        "\n",
        "\n",
        "reducer_tsne = TSNE(n_components=n_components, perplexity=perplexity, method='barnes_hut')\n",
        "reducer_umap = UMAP(n_components=n_components, n_neighbors=n_neighbors)"
      ],
      "metadata": {
        "id": "XQLz6jwgDLL1"
      },
      "execution_count": null,
      "outputs": []
    }
  ]
}