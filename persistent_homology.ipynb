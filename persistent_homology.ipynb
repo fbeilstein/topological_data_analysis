{
  "nbformat": 4,
  "nbformat_minor": 0,
  "metadata": {
    "colab": {
      "private_outputs": true,
      "provenance": [],
      "authorship_tag": "ABX9TyOg8hWa+yUL950mg0dTjeFS",
      "include_colab_link": true
    },
    "kernelspec": {
      "name": "python3",
      "display_name": "Python 3"
    },
    "language_info": {
      "name": "python"
    }
  },
  "cells": [
    {
      "cell_type": "markdown",
      "metadata": {
        "id": "view-in-github",
        "colab_type": "text"
      },
      "source": [
        "<a href=\"https://colab.research.google.com/github/fbeilstein/topological_data_analysis/blob/master/persistent_homology.ipynb\" target=\"_parent\"><img src=\"https://colab.research.google.com/assets/colab-badge.svg\" alt=\"Open In Colab\"/></a>"
      ]
    },
    {
      "cell_type": "code",
      "execution_count": null,
      "metadata": {
        "id": "Tjgt-hHDL9Hf"
      },
      "outputs": [],
      "source": [
        "#@title Demo Homology\n",
        "\n",
        "import IPython\n",
        "from google.colab import output\n",
        "\n",
        "def invoke(triangles):\n",
        "  T = set_triangles(triangles)\n",
        "  order = 1\n",
        "  print()\n",
        "\n",
        "  chain2 = get_chain_order(get_complex(T), order+1)\n",
        "  for_image = get_span(chain2)\n",
        "  calculate_boundary(for_image, \"img\")\n",
        "  print()\n",
        "\n",
        "  chain1 = get_chain_order(get_complex(T), order)\n",
        "  for_kernel = get_span(chain1)\n",
        "  calculate_boundary(for_kernel, \"ker\")\n",
        "  return IPython.display.JSON({'hello': 'world',\n",
        "                               'world': 'hello'})\n",
        "\n",
        "\n",
        "main_str = '''\n",
        "<!DOCTYPE html>\n",
        "<html lang=\"en\">\n",
        "<head>\n",
        "<meta charset=\"UTF-8\">\n",
        "<meta http-equiv=\"X-UA-Compatible\" content=\"IE-edge\"/>\n",
        "<meta name=\"viewport\" content=\"width=device-width, initial-scale=1.0\"/>\n",
        "<link   rel=\"stylesheet\" href=\"https://fbeilstein.github.io/topological_data_analysis/js_common/styles.css\"/>\n",
        "\n",
        "<title> Document </title>\n",
        "</head>\n",
        "<body>\n",
        "    <div class=\"container\">\n",
        "        <canvas id=\"canvas\"></canvas>\n",
        "    </div>\n",
        "    <button id=\"button\">GET TRIANGLES</button>\n",
        "    <script src=\"https://fbeilstein.github.io/topological_data_analysis/js_common/script.js\"></script>\n",
        "</body>\n",
        "</html>\n",
        "'''\n",
        "\n",
        "output.register_callback('notebook.homologies', invoke)\n",
        "display(IPython.display.HTML(main_str))"
      ]
    }
  ]
}